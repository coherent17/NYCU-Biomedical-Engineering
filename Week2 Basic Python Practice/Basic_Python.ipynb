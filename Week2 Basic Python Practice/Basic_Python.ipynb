{
  "cells": [
    {
      "cell_type": "markdown",
      "metadata": {
        "id": "vn5zeMDfWAXD"
      },
      "source": [
        "Biomedical Engineering Practice Week2"
      ]
    },
    {
      "cell_type": "code",
      "execution_count": null,
      "metadata": {
        "id": "k-IQjwOKSFJO"
      },
      "outputs": [
        {
          "ename": "",
          "evalue": "",
          "output_type": "error",
          "traceback": [
            "\u001b[1;31mRunning cells with 'c:\\Users\\mnb51\\AppData\\Local\\Programs\\Python\\Python310\\python.exe' requires the ipykernel package.\n",
            "\u001b[1;31mRun the following command to install 'ipykernel' into the Python environment. \n",
            "\u001b[1;31mCommand: 'c:/Users/mnb51/AppData/Local/Programs/Python/Python310/python.exe -m pip install ipykernel -U --user --force-reinstall'"
          ]
        }
      ],
      "source": [
        "#load the libraries as usual\n",
        "import matplotlib.pyplot as plt\n",
        "import numpy as np"
      ]
    },
    {
      "cell_type": "markdown",
      "metadata": {
        "id": "UMeGQIASUV3_"
      },
      "source": [
        "(1) Type in the following commands, see what happens and interpret them"
      ]
    },
    {
      "cell_type": "code",
      "execution_count": null,
      "metadata": {
        "colab": {
          "base_uri": "https://localhost:8080/",
          "height": 341
        },
        "id": "_vJ0wl2kSQEo",
        "outputId": "a06246c1-1b9e-4433-b15b-d8131aa2a046"
      },
      "outputs": [
        {
          "ename": "",
          "evalue": "",
          "output_type": "error",
          "traceback": [
            "\u001b[1;31mRunning cells with 'c:\\Users\\mnb51\\AppData\\Local\\Programs\\Python\\Python310\\python.exe' requires the ipykernel package.\n",
            "\u001b[1;31mRun the following command to install 'ipykernel' into the Python environment. \n",
            "\u001b[1;31mCommand: 'c:/Users/mnb51/AppData/Local/Programs/Python/Python310/python.exe -m pip install ipykernel -U --user --force-reinstall'"
          ]
        }
      ],
      "source": [
        "data = np.random.random(size=(4, 6))\n",
        "plt.imshow(data, interpolation='nearest')\n",
        "plt.show()\n",
        "print(data)"
      ]
    },
    {
      "cell_type": "code",
      "execution_count": null,
      "metadata": {
        "colab": {
          "base_uri": "https://localhost:8080/",
          "height": 463
        },
        "id": "jfyRhJbBSUT6",
        "outputId": "5e87876c-011f-4dc5-b6dd-56d670153781"
      },
      "outputs": [
        {
          "ename": "",
          "evalue": "",
          "output_type": "error",
          "traceback": [
            "\u001b[1;31mRunning cells with 'c:\\Users\\mnb51\\AppData\\Local\\Programs\\Python\\Python310\\python.exe' requires the ipykernel package.\n",
            "\u001b[1;31mRun the following command to install 'ipykernel' into the Python environment. \n",
            "\u001b[1;31mCommand: 'c:/Users/mnb51/AppData/Local/Programs/Python/Python310/python.exe -m pip install ipykernel -U --user --force-reinstall'"
          ]
        }
      ],
      "source": [
        "data = np.random.random(size=(11, 11))\n",
        "data2 = np.round(data)\n",
        "plt.imshow(data2, interpolation='nearest')\n",
        "plt.show()\n",
        "print(data2)"
      ]
    },
    {
      "cell_type": "code",
      "execution_count": null,
      "metadata": {
        "colab": {
          "base_uri": "https://localhost:8080/",
          "height": 463
        },
        "id": "W3ZtsrASSW8l",
        "outputId": "c8af2da7-7510-4598-bbdb-097c0a58133a"
      },
      "outputs": [
        {
          "ename": "",
          "evalue": "",
          "output_type": "error",
          "traceback": [
            "\u001b[1;31mRunning cells with 'c:\\Users\\mnb51\\AppData\\Local\\Programs\\Python\\Python310\\python.exe' requires the ipykernel package.\n",
            "\u001b[1;31mRun the following command to install 'ipykernel' into the Python environment. \n",
            "\u001b[1;31mCommand: 'c:/Users/mnb51/AppData/Local/Programs/Python/Python310/python.exe -m pip install ipykernel -U --user --force-reinstall'"
          ]
        }
      ],
      "source": [
        "n = 11\n",
        "data = np.zeros((n,n))\n",
        "# (a) what is the effect of the following three lines\n",
        "data[1,1] = 1\n",
        "data[2,3] = 1\n",
        "data[3,5] = 1\n",
        "# (b) again what do the following two lines do?\n",
        "data[5,1:n-1] = 1\n",
        "data[n-2,:] = 1\n",
        "print(data)\n",
        "plt.imshow(data, interpolation='nearest')\n",
        "plt.show()"
      ]
    },
    {
      "cell_type": "code",
      "execution_count": null,
      "metadata": {
        "colab": {
          "base_uri": "https://localhost:8080/",
          "height": 463
        },
        "id": "PXjgYSRwScvk",
        "outputId": "4b67157a-bf6b-4851-f259-4c3b72e3f370"
      },
      "outputs": [
        {
          "ename": "",
          "evalue": "",
          "output_type": "error",
          "traceback": [
            "\u001b[1;31mRunning cells with 'c:\\Users\\mnb51\\AppData\\Local\\Programs\\Python\\Python310\\python.exe' requires the ipykernel package.\n",
            "\u001b[1;31mRun the following command to install 'ipykernel' into the Python environment. \n",
            "\u001b[1;31mCommand: 'c:/Users/mnb51/AppData/Local/Programs/Python/Python310/python.exe -m pip install ipykernel -U --user --force-reinstall'"
          ]
        }
      ],
      "source": [
        "# Here we practise 'for' loops\n",
        "n = 11\n",
        "data = np.zeros((n,n))\n",
        "# (a) What is the effect of this 'for' loop?\n",
        "for i in range(0,n):\n",
        "    data[i,3] = 1\n",
        "# (b) And this 'for' loop?\n",
        "col = (n-1) // 2\n",
        "for i in range(0,n,2):\n",
        "    data[i,col] = 1\n",
        "print(data)\n",
        "plt.imshow(data, interpolation='nearest')\n",
        "plt.show()"
      ]
    },
    {
      "cell_type": "markdown",
      "metadata": {
        "id": "0Sg1t0hGUc_T"
      },
      "source": [
        "(2) Let us switch gears. You are asked to reproduce the following images by\n",
        "replacing the ... dots with yor own Python commands. Take advantage of the\n",
        "examples above."
      ]
    },
    {
      "cell_type": "code",
      "execution_count": null,
      "metadata": {
        "colab": {
          "base_uri": "https://localhost:8080/",
          "height": 265
        },
        "id": "Lf3e8PoJSwDT",
        "outputId": "78143b58-5889-494c-cc86-d9601a67c2e7"
      },
      "outputs": [
        {
          "ename": "",
          "evalue": "",
          "output_type": "error",
          "traceback": [
            "\u001b[1;31mRunning cells with 'c:\\Users\\mnb51\\AppData\\Local\\Programs\\Python\\Python310\\python.exe' requires the ipykernel package.\n",
            "\u001b[1;31mRun the following command to install 'ipykernel' into the Python environment. \n",
            "\u001b[1;31mCommand: 'c:/Users/mnb51/AppData/Local/Programs/Python/Python310/python.exe -m pip install ipykernel -U --user --force-reinstall'"
          ]
        }
      ],
      "source": [
        "n= 11\n",
        "data = np.zeros((n,n))\n",
        "for i in range(0,n):\n",
        "    data[i,i] = 1\n",
        "    data[i,10-i] = 1\n",
        "plt.imshow(data, interpolation='nearest')\n",
        "plt.show()"
      ]
    },
    {
      "cell_type": "code",
      "execution_count": null,
      "metadata": {
        "colab": {
          "base_uri": "https://localhost:8080/",
          "height": 265
        },
        "id": "eCTEm7aFTCdN",
        "outputId": "bafd43ab-0246-4be1-e8f5-2171e8896e3e"
      },
      "outputs": [
        {
          "ename": "",
          "evalue": "",
          "output_type": "error",
          "traceback": [
            "\u001b[1;31mRunning cells with 'c:\\Users\\mnb51\\AppData\\Local\\Programs\\Python\\Python310\\python.exe' requires the ipykernel package.\n",
            "\u001b[1;31mRun the following command to install 'ipykernel' into the Python environment. \n",
            "\u001b[1;31mCommand: 'c:/Users/mnb51/AppData/Local/Programs/Python/Python310/python.exe -m pip install ipykernel -U --user --force-reinstall'"
          ]
        }
      ],
      "source": [
        "# make two overlapping squares\n",
        "n= 11\n",
        "data = np.zeros((n,n))\n",
        "for i in range(1,n-1):\n",
        "    for j in range (1,n-1):\n",
        "        data[i,j]=1\n",
        "for i in range(2,n-2):\n",
        "    for j in range (2,n-2):\n",
        "        data[i,j]=0\n",
        "plt.imshow(data, interpolation='nearest')\n",
        "plt.show()"
      ]
    },
    {
      "cell_type": "code",
      "execution_count": null,
      "metadata": {
        "colab": {
          "base_uri": "https://localhost:8080/",
          "height": 265
        },
        "id": "w1ecGs5GTMlf",
        "outputId": "8844d53f-e33b-46c9-b257-88b192f8d364"
      },
      "outputs": [
        {
          "ename": "",
          "evalue": "",
          "output_type": "error",
          "traceback": [
            "\u001b[1;31mRunning cells with 'c:\\Users\\mnb51\\AppData\\Local\\Programs\\Python\\Python310\\python.exe' requires the ipykernel package.\n",
            "\u001b[1;31mRun the following command to install 'ipykernel' into the Python environment. \n",
            "\u001b[1;31mCommand: 'c:/Users/mnb51/AppData/Local/Programs/Python/Python310/python.exe -m pip install ipykernel -U --user --force-reinstall'"
          ]
        }
      ],
      "source": [
        "# make continuously overlapping squares\n",
        "n= 11\n",
        "data = np.zeros((n,n))\n",
        "for i in range(0,n):\n",
        "    for j in range (0,n):\n",
        "        data[i,j]=1\n",
        "for i in range(1,n-1):\n",
        "    for j in range (1,n-1):\n",
        "        data[i,j]=0\n",
        "for i in range(2,n-2):\n",
        "    for j in range (2,n-2):\n",
        "        data[i,j]=1\n",
        "for i in range(3,n-3):\n",
        "    for j in range (3,n-3):\n",
        "        data[i,j]=0\n",
        "for i in range(4,n-4):\n",
        "    for j in range (4,n-4):\n",
        "        data[i,j]=1\n",
        "data[5,n-6]=0\n",
        "plt.imshow(data, interpolation='nearest')\n",
        "plt.show()"
      ]
    },
    {
      "cell_type": "code",
      "execution_count": null,
      "metadata": {
        "colab": {
          "base_uri": "https://localhost:8080/",
          "height": 265
        },
        "id": "9--9h_A7TgSm",
        "outputId": "e2140617-625d-446e-fa5d-b8b0fbb82c91"
      },
      "outputs": [
        {
          "ename": "",
          "evalue": "",
          "output_type": "error",
          "traceback": [
            "\u001b[1;31mRunning cells with 'c:\\Users\\mnb51\\AppData\\Local\\Programs\\Python\\Python310\\python.exe' requires the ipykernel package.\n",
            "\u001b[1;31mRun the following command to install 'ipykernel' into the Python environment. \n",
            "\u001b[1;31mCommand: 'c:/Users/mnb51/AppData/Local/Programs/Python/Python310/python.exe -m pip install ipykernel -U --user --force-reinstall'"
          ]
        }
      ],
      "source": [
        "# make two squares\n",
        "n= 11\n",
        "data = np.zeros((n,n))\n",
        "for i in range(1,5):\n",
        "    for j in range (1,5):\n",
        "        data[i,j]=1\n",
        "for i in range(6,10):\n",
        "    for j in range (6,10):\n",
        "        data[i,j]=1\n",
        "plt.imshow(data, interpolation='nearest')\n",
        "plt.show()"
      ]
    },
    {
      "cell_type": "code",
      "execution_count": null,
      "metadata": {
        "colab": {
          "base_uri": "https://localhost:8080/",
          "height": 265
        },
        "id": "XiW0moQOTk3r",
        "outputId": "a171ba87-3417-4da7-876c-f5b6d16c7572"
      },
      "outputs": [
        {
          "ename": "",
          "evalue": "",
          "output_type": "error",
          "traceback": [
            "\u001b[1;31mRunning cells with 'c:\\Users\\mnb51\\AppData\\Local\\Programs\\Python\\Python310\\python.exe' requires the ipykernel package.\n",
            "\u001b[1;31mRun the following command to install 'ipykernel' into the Python environment. \n",
            "\u001b[1;31mCommand: 'c:/Users/mnb51/AppData/Local/Programs/Python/Python310/python.exe -m pip install ipykernel -U --user --force-reinstall'"
          ]
        }
      ],
      "source": [
        "# make four squares (Windows!)\n",
        "n= 11\n",
        "data = np.zeros((n,n))\n",
        "for i in range(1,5):\n",
        "    for j in range (1,5):\n",
        "        data[i,j]=1\n",
        "for i in range(1,5):\n",
        "    for j in range (6,10):\n",
        "        data[i,j]=1\n",
        "for i in range(6,10):\n",
        "    for j in range (6,10):\n",
        "        data[i,j]=1\n",
        "for i in range(6,10):\n",
        "    for j in range (1,5):\n",
        "        data[i,j]=1\n",
        "plt.imshow(data, interpolation='nearest')\n",
        "plt.show()"
      ]
    },
    {
      "cell_type": "code",
      "execution_count": null,
      "metadata": {
        "colab": {
          "base_uri": "https://localhost:8080/",
          "height": 265
        },
        "id": "ly0dYRa5TrO4",
        "outputId": "c4b6efc5-6bac-4b99-8110-ed42ac4a753d"
      },
      "outputs": [
        {
          "ename": "",
          "evalue": "",
          "output_type": "error",
          "traceback": [
            "\u001b[1;31mRunning cells with 'c:\\Users\\mnb51\\AppData\\Local\\Programs\\Python\\Python310\\python.exe' requires the ipykernel package.\n",
            "\u001b[1;31mRun the following command to install 'ipykernel' into the Python environment. \n",
            "\u001b[1;31mCommand: 'c:/Users/mnb51/AppData/Local/Programs/Python/Python310/python.exe -m pip install ipykernel -U --user --force-reinstall'"
          ]
        }
      ],
      "source": [
        "# volume sign!\n",
        "n= 11\n",
        "data = np.zeros((n,n))\n",
        "data[5,1]=1\n",
        "for i in range(4,7):\n",
        "    data[i,3]=1\n",
        "for i in range(3,8):\n",
        "    data[i,5]=1\n",
        "for i in range(2,9):\n",
        "    data[i,7]=1\n",
        "for i in range(1,10):\n",
        "    data[i,9]=1\n",
        "plt.imshow(data, interpolation='nearest')\n",
        "plt.show()"
      ]
    },
    {
      "cell_type": "code",
      "execution_count": null,
      "metadata": {
        "colab": {
          "base_uri": "https://localhost:8080/",
          "height": 269
        },
        "id": "HFIIZrjoT13T",
        "outputId": "4a03f0a7-05f0-47a1-a328-a617d4352bef"
      },
      "outputs": [
        {
          "ename": "",
          "evalue": "",
          "output_type": "error",
          "traceback": [
            "\u001b[1;31mRunning cells with 'c:\\Users\\mnb51\\AppData\\Local\\Programs\\Python\\Python310\\python.exe' requires the ipykernel package.\n",
            "\u001b[1;31mRun the following command to install 'ipykernel' into the Python environment. \n",
            "\u001b[1;31mCommand: 'c:/Users/mnb51/AppData/Local/Programs/Python/Python310/python.exe -m pip install ipykernel -U --user --force-reinstall'"
          ]
        }
      ],
      "source": [
        "# circle\n",
        "n = 501\n",
        "r = n/2.0\n",
        "data = np.zeros((n,n))\n",
        "for i in range(0,n-1):\n",
        "    for j in range(0,n-1):\n",
        "        if (i-250)**2+(j-250)**2<r**2:\n",
        "            data[i,j] = 1\n",
        "plt.imshow(data, interpolation='nearest')\n",
        "plt.show()"
      ]
    },
    {
      "cell_type": "markdown",
      "metadata": {
        "id": "S1uJyAKeUPxi"
      },
      "source": [
        "(3) Finally we want to load and display an external\n",
        "data set that contains Earth's elevation and\n",
        "pessimetry data of grid of longitude and latitude\n",
        "points"
      ]
    },
    {
      "cell_type": "code",
      "execution_count": null,
      "metadata": {
        "colab": {
          "base_uri": "https://localhost:8080/"
        },
        "id": "9vAtDbQ5T5_j",
        "outputId": "faba016d-7515-4d8f-b4e9-33ee994ed6f0"
      },
      "outputs": [
        {
          "ename": "",
          "evalue": "",
          "output_type": "error",
          "traceback": [
            "\u001b[1;31mRunning cells with 'c:\\Users\\mnb51\\AppData\\Local\\Programs\\Python\\Python310\\python.exe' requires the ipykernel package.\n",
            "\u001b[1;31mRun the following command to install 'ipykernel' into the Python environment. \n",
            "\u001b[1;31mCommand: 'c:/Users/mnb51/AppData/Local/Programs/Python/Python310/python.exe -m pip install ipykernel -U --user --force-reinstall'"
          ]
        }
      ],
      "source": [
        "#The following command will fail if you do not have the 'topography_180x360_grid.txt' file in current folder\n",
        "H = np.loadtxt('topography_180x360_grid.txt')\n",
        "print(H)\n",
        "print(H.shape)"
      ]
    },
    {
      "cell_type": "code",
      "execution_count": null,
      "metadata": {
        "colab": {
          "base_uri": "https://localhost:8080/",
          "height": 219
        },
        "id": "RDg5-pyvUF5y",
        "outputId": "97c28b48-1ec9-4412-9bec-fd08501946c8"
      },
      "outputs": [
        {
          "ename": "",
          "evalue": "",
          "output_type": "error",
          "traceback": [
            "\u001b[1;31mRunning cells with 'c:\\Users\\mnb51\\AppData\\Local\\Programs\\Python\\Python310\\python.exe' requires the ipykernel package.\n",
            "\u001b[1;31mRun the following command to install 'ipykernel' into the Python environment. \n",
            "\u001b[1;31mCommand: 'c:/Users/mnb51/AppData/Local/Programs/Python/Python310/python.exe -m pip install ipykernel -U --user --force-reinstall'"
          ]
        }
      ],
      "source": [
        "# Now you should simply be in awe\n",
        "plt.imshow(H, interpolation='nearest')\n",
        "plt.show()"
      ]
    },
    {
      "cell_type": "markdown",
      "metadata": {
        "id": "2IRJRB4dUio7"
      },
      "source": [
        "(3a) Insert one commnd and cover the continent of Australia with a yellow\n",
        "rectangle. Set the values in the rectangle to -10000."
      ]
    },
    {
      "cell_type": "code",
      "execution_count": null,
      "metadata": {
        "colab": {
          "base_uri": "https://localhost:8080/",
          "height": 219
        },
        "id": "TIO-zhZsUI0W",
        "outputId": "10c50e91-3ac6-4b36-8a66-9ff30021a4f4"
      },
      "outputs": [
        {
          "ename": "",
          "evalue": "",
          "output_type": "error",
          "traceback": [
            "\u001b[1;31mRunning cells with 'c:\\Users\\mnb51\\AppData\\Local\\Programs\\Python\\Python310\\python.exe' requires the ipykernel package.\n",
            "\u001b[1;31mRun the following command to install 'ipykernel' into the Python environment. \n",
            "\u001b[1;31mCommand: 'c:/Users/mnb51/AppData/Local/Programs/Python/Python310/python.exe -m pip install ipykernel -U --user --force-reinstall'"
          ]
        }
      ],
      "source": [
        "H2 = H\n",
        "for i in range(75,150):\n",
        "    for j in range(110,160):\n",
        "        H2[i,j] = +10000\n",
        "plt.imshow(H2, interpolation='nearest')\n",
        "plt.show()"
      ]
    },
    {
      "cell_type": "markdown",
      "metadata": {
        "id": "8dU2OKeQUx6L"
      },
      "source": [
        "(3b) Insert one commnd and cover the continent of South American with a blue\n",
        "rectangle. Set the values in the rectangle to +10000."
      ]
    },
    {
      "cell_type": "code",
      "execution_count": null,
      "metadata": {
        "colab": {
          "base_uri": "https://localhost:8080/",
          "height": 219
        },
        "id": "NsWAJJewUoL6",
        "outputId": "ecc04904-436b-468f-fbfb-614b693bc4e5"
      },
      "outputs": [
        {
          "ename": "",
          "evalue": "",
          "output_type": "error",
          "traceback": [
            "\u001b[1;31mRunning cells with 'c:\\Users\\mnb51\\AppData\\Local\\Programs\\Python\\Python310\\python.exe' requires the ipykernel package.\n",
            "\u001b[1;31mRun the following command to install 'ipykernel' into the Python environment. \n",
            "\u001b[1;31mCommand: 'c:/Users/mnb51/AppData/Local/Programs/Python/Python310/python.exe -m pip install ipykernel -U --user --force-reinstall'"
          ]
        }
      ],
      "source": [
        "H3 = H\n",
        "for i in range(75,150):\n",
        "    for j in range(270,330):\n",
        "        H3[i,j] = -10000\n",
        "plt.imshow(H3, interpolation='nearest')\n",
        "plt.show()"
      ]
    },
    {
      "cell_type": "markdown",
      "metadata": {
        "id": "F03pPir5VGPS"
      },
      "source": [
        "(3c) Load the 'topography180x360grid.txt' file again. For all points with\n",
        "elevations above 2000 m, set the elevation to 10000 m. For all points with a\n",
        "pessimetry of more then 2000 m, set the elevation to -10000 m."
      ]
    },
    {
      "cell_type": "code",
      "execution_count": null,
      "metadata": {
        "colab": {
          "base_uri": "https://localhost:8080/",
          "height": 219
        },
        "id": "vZr667_SVCFG",
        "outputId": "503fceb8-5310-43f7-e221-da4ccaa6670c"
      },
      "outputs": [
        {
          "ename": "",
          "evalue": "",
          "output_type": "error",
          "traceback": [
            "\u001b[1;31mRunning cells with 'c:\\Users\\mnb51\\AppData\\Local\\Programs\\Python\\Python310\\python.exe' requires the ipykernel package.\n",
            "\u001b[1;31mRun the following command to install 'ipykernel' into the Python environment. \n",
            "\u001b[1;31mCommand: 'c:/Users/mnb51/AppData/Local/Programs/Python/Python310/python.exe -m pip install ipykernel -U --user --force-reinstall'"
          ]
        }
      ],
      "source": [
        "H4 = np.loadtxt('topography_180x360_grid.txt')\n",
        "for i in range(0,180):\n",
        "    for j in range(0,360):\n",
        "        if H4[i,j]>2000:\n",
        "            H4[i,j] = 10000\n",
        "        elif H4[i,j] < -2000:\n",
        "            H4[i,j] = -10000\n",
        "plt.imshow(H4, interpolation='nearest')\n",
        "plt.show()"
      ]
    },
    {
      "cell_type": "markdown",
      "metadata": {
        "id": "iQxPHqoKVVBL"
      },
      "source": [
        "(3d) In addition to the modifications in (3c), now also change the elevation to\n",
        "zero if the original elevation was betweenb -2000 and +2000 m."
      ]
    },
    {
      "cell_type": "code",
      "execution_count": null,
      "metadata": {
        "colab": {
          "base_uri": "https://localhost:8080/",
          "height": 219
        },
        "id": "66NH6PFCVOtm",
        "outputId": "c9934d40-48b7-4417-b8a6-21022950c263"
      },
      "outputs": [
        {
          "ename": "",
          "evalue": "",
          "output_type": "error",
          "traceback": [
            "\u001b[1;31mRunning cells with 'c:\\Users\\mnb51\\AppData\\Local\\Programs\\Python\\Python310\\python.exe' requires the ipykernel package.\n",
            "\u001b[1;31mRun the following command to install 'ipykernel' into the Python environment. \n",
            "\u001b[1;31mCommand: 'c:/Users/mnb51/AppData/Local/Programs/Python/Python310/python.exe -m pip install ipykernel -U --user --force-reinstall'"
          ]
        }
      ],
      "source": [
        "H4 = np.loadtxt('topography_180x360_grid.txt')\n",
        "for i in range(0,180):\n",
        "    for j in range(0,360):\n",
        "        if H4[i,j]>2000:\n",
        "            H4[i,j] = 10000\n",
        "        elif H4[i,j] < -2000:\n",
        "            H4[i,j] = -10000\n",
        "        else:\n",
        "            H4[i,j] = 0\n",
        "plt.imshow(H4, interpolation='nearest')\n",
        "plt.show()"
      ]
    },
    {
      "cell_type": "markdown",
      "metadata": {
        "id": "oZYy8AM1Vd8A"
      },
      "source": [
        "(3e) From the movie \"Black Panther\", we learn that Wakanda is the center of the\n",
        "modern world. Now shift our map in east-west direction so that Africa appears\n",
        "in the map's center as shown below."
      ]
    },
    {
      "cell_type": "code",
      "execution_count": null,
      "metadata": {
        "colab": {
          "base_uri": "https://localhost:8080/",
          "height": 219
        },
        "id": "7eLhW7l1VblV",
        "outputId": "8b287360-6679-40dd-995a-d5952c70f88d"
      },
      "outputs": [
        {
          "ename": "",
          "evalue": "",
          "output_type": "error",
          "traceback": [
            "\u001b[1;31mRunning cells with 'c:\\Users\\mnb51\\AppData\\Local\\Programs\\Python\\Python310\\python.exe' requires the ipykernel package.\n",
            "\u001b[1;31mRun the following command to install 'ipykernel' into the Python environment. \n",
            "\u001b[1;31mCommand: 'c:/Users/mnb51/AppData/Local/Programs/Python/Python310/python.exe -m pip install ipykernel -U --user --force-reinstall'"
          ]
        }
      ],
      "source": [
        "#Accomodating Wakanda\n",
        "H5 = np.copy(H4);\n",
        "for i in range(0,180):\n",
        "    for j in range(0,360):\n",
        "        if j>150:\n",
        "            H5[i,j] = H4[i, j-150]\n",
        "        else:\n",
        "            H5[i,j] = H4[i,j+209]\n",
        "plt.imshow(H5, interpolation='nearest')\n",
        "plt.show()"
      ]
    },
    {
      "cell_type": "markdown",
      "metadata": {
        "id": "pV1aLLVUVrc6"
      },
      "source": [
        "(3f) Let us practise the np.append command. Just type in the commands to see\n",
        "what happens."
      ]
    },
    {
      "cell_type": "code",
      "execution_count": null,
      "metadata": {
        "colab": {
          "base_uri": "https://localhost:8080/",
          "height": 269
        },
        "id": "cAevkY9lVnzF",
        "outputId": "c74710d9-1a8b-4b3c-83d1-1849b4fc4e47"
      },
      "outputs": [
        {
          "ename": "",
          "evalue": "",
          "output_type": "error",
          "traceback": [
            "\u001b[1;31mRunning cells with 'c:\\Users\\mnb51\\AppData\\Local\\Programs\\Python\\Python310\\python.exe' requires the ipykernel package.\n",
            "\u001b[1;31mRun the following command to install 'ipykernel' into the Python environment. \n",
            "\u001b[1;31mCommand: 'c:/Users/mnb51/AppData/Local/Programs/Python/Python310/python.exe -m pip install ipykernel -U --user --force-reinstall'"
          ]
        }
      ],
      "source": [
        "H = np.loadtxt('topography_180x360_grid.txt')\n",
        "HH = np.append(H,H,axis=0)\n",
        "plt.imshow(HH, interpolation='nearest')\n",
        "plt.show()"
      ]
    },
    {
      "cell_type": "code",
      "execution_count": null,
      "metadata": {
        "colab": {
          "base_uri": "https://localhost:8080/",
          "height": 94
        },
        "id": "4VZK-WlKVudQ",
        "outputId": "c03501c1-c50f-4bba-c6cc-d47b5cd22f01"
      },
      "outputs": [
        {
          "ename": "",
          "evalue": "",
          "output_type": "error",
          "traceback": [
            "\u001b[1;31mRunning cells with 'c:\\Users\\mnb51\\AppData\\Local\\Programs\\Python\\Python310\\python.exe' requires the ipykernel package.\n",
            "\u001b[1;31mRun the following command to install 'ipykernel' into the Python environment. \n",
            "\u001b[1;31mCommand: 'c:/Users/mnb51/AppData/Local/Programs/Python/Python310/python.exe -m pip install ipykernel -U --user --force-reinstall'"
          ]
        }
      ],
      "source": [
        "H = np.loadtxt('topography_180x360_grid.txt')\n",
        "HH = np.append(H,H,axis=1)\n",
        "HHHH = np.append(HH,HH,axis=1)\n",
        "plt.imshow(HHHH, interpolation='nearest')\n",
        "plt.show()"
      ]
    },
    {
      "cell_type": "code",
      "execution_count": null,
      "metadata": {
        "colab": {
          "base_uri": "https://localhost:8080/",
          "height": 287
        },
        "id": "eE8kYTyGVzZi",
        "outputId": "b70df084-36df-4615-935e-0aa7da29096f"
      },
      "outputs": [
        {
          "ename": "",
          "evalue": "",
          "output_type": "error",
          "traceback": [
            "\u001b[1;31mRunning cells with 'c:\\Users\\mnb51\\AppData\\Local\\Programs\\Python\\Python310\\python.exe' requires the ipykernel package.\n",
            "\u001b[1;31mRun the following command to install 'ipykernel' into the Python environment. \n",
            "\u001b[1;31mCommand: 'c:/Users/mnb51/AppData/Local/Programs/Python/Python310/python.exe -m pip install ipykernel -U --user --force-reinstall'"
          ]
        }
      ],
      "source": [
        "H = np.loadtxt('topography_180x360_grid.txt')\n",
        "nx = H.shape[0]\n",
        "ny = H.shape[1]\n",
        "print(nx,ny)\n",
        "Extra = np.zeros([100,ny])\n",
        "HExtra = np.append(H,Extra,axis=0)\n",
        "plt.imshow(HExtra, interpolation='nearest')\n",
        "plt.show()"
      ]
    }
  ],
  "metadata": {
    "colab": {
      "provenance": []
    },
    "kernelspec": {
      "display_name": "Python 3",
      "language": "python",
      "name": "python3"
    },
    "language_info": {
      "name": "python",
      "version": "3.10.6"
    },
    "vscode": {
      "interpreter": {
        "hash": "de08ec297f194605b821ee3b8ad08e046f28925864149bcb11c2cb5fd92b72f1"
      }
    }
  },
  "nbformat": 4,
  "nbformat_minor": 0
}
